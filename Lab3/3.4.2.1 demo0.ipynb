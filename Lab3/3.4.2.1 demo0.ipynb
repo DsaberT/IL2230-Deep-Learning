{
 "cells": [
  {
   "cell_type": "code",
   "execution_count": 1,
   "id": "3221d47f",
   "metadata": {},
   "outputs": [
    {
     "name": "stdout",
     "output_type": "stream",
     "text": [
      "input f32 tensor([[0.3643, 0.1344]])\n",
      "in process x tensor([[-0.5329]], grad_fn=<AddmmBackward0>)\n",
      "You could observe that the results below are different\n",
      "result,fp32 tensor([[-0.5329]], grad_fn=<AddmmBackward0>)\n",
      "in process x tensor([[-0.5332]])\n",
      "result,int8 tensor([[-0.5332]])\n",
      "modelfp32 dict OrderedDict([('fc.weight', tensor([[-0.0053,  0.3793]])), ('fc.bias', tensor([-0.5820]))])\n",
      "modelint8 dict OrderedDict([('fc.scale', tensor(1.)), ('fc.zero_point', tensor(0)), ('fc._packed_params.dtype', torch.qint8), ('fc._packed_params._packed_params', (tensor([[-0.0060,  0.3778]], size=(1, 2), dtype=torch.qint8,\n",
      "       quantization_scheme=torch.per_tensor_affine, scale=0.0029750820249319077,\n",
      "       zero_point=0), Parameter containing:\n",
      "tensor([-0.5820], requires_grad=True)))])\n",
      "You could observe that the weights' values and types below are different\n",
      "modelf32 weight tensor([[-0.0053,  0.3793]])\n",
      "modelint8 weight tensor([[-0.0060,  0.3778]], size=(1, 2), dtype=torch.qint8,\n",
      "       quantization_scheme=torch.per_tensor_affine, scale=0.0029750820249319077,\n",
      "       zero_point=0)\n",
      "modelint8 weight (int_repr) tensor([[ -2, 127]], dtype=torch.int8)\n"
     ]
    }
   ],
   "source": [
    "import torch\n",
    "import torch.nn as nn\n",
    "torch.manual_seed(0)\n",
    "class Demo(torch.nn.Module):\n",
    "    def __init__(self):\n",
    "        super(Demo, self).__init__()\n",
    "        self.fc = torch.nn.Linear(2, 1)\n",
    "\n",
    "    def forward(self, x):\n",
    "        x = self.fc(x)\n",
    "        print(\"in process x\",x)\n",
    "        return x\n",
    "model_fp32=Demo()\n",
    "model_int8 = torch.quantization.quantize_dynamic(\n",
    "    model_fp32,  # the original model\n",
    "    {torch.nn.Linear},  # a set of layers to dynamically quantize\n",
    "    dtype=torch.qint8)  # the target dtype for quantized weights\n",
    "input_fp32 = torch.randn(1, 2) #input a*b nn.linear:b, c.  \"c\" is the dimension of output\n",
    "print('input f32',input_fp32)\n",
    "res_f32 = model_fp32(input_fp32)\n",
    "print('You could observe that the results below are different')\n",
    "print('result,fp32',res_f32)\n",
    "res_int8 = model_int8(input_fp32)\n",
    "print('result,int8',res_int8)\n",
    "########## observe the model\n",
    "print(\"modelfp32 dict\",model_fp32.state_dict())\n",
    "print(\"modelint8 dict\",model_int8.state_dict())\n",
    "###observe the weight's type'\n",
    "print(\"You could observe that the weights' values and types below are different\")\n",
    "print('modelf32 weight',model_fp32.state_dict()['fc.weight'])\n",
    "print('modelint8 weight',model_int8.state_dict()['fc._packed_params._packed_params'][0])\n",
    "print('modelint8 weight (int_repr)',model_int8.state_dict()['fc._packed_params._packed_params'][0].int_repr())"
   ]
  },
  {
   "cell_type": "code",
   "execution_count": null,
   "id": "a8f13291",
   "metadata": {},
   "outputs": [],
   "source": []
  }
 ],
 "metadata": {
  "kernelspec": {
   "display_name": "Python 3",
   "language": "python",
   "name": "python3"
  },
  "language_info": {
   "codemirror_mode": {
    "name": "ipython",
    "version": 3
   },
   "file_extension": ".py",
   "mimetype": "text/x-python",
   "name": "python",
   "nbconvert_exporter": "python",
   "pygments_lexer": "ipython3",
   "version": "3.8.8"
  }
 },
 "nbformat": 4,
 "nbformat_minor": 5
}
